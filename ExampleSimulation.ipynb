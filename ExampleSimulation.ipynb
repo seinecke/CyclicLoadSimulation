{
 "cells": [
  {
   "cell_type": "code",
   "execution_count": 11,
   "metadata": {},
   "outputs": [],
   "source": [
    "from CyclicLoadSimulation import Experiment, Wire\n",
    "\n",
    "import numpy as np\n",
    "import matplotlib.pyplot as plt"
   ]
  },
  {
   "cell_type": "markdown",
   "metadata": {},
   "source": [
    "#### Initialisation"
   ]
  },
  {
   "cell_type": "code",
   "execution_count": 5,
   "metadata": {},
   "outputs": [],
   "source": [
    "nr_wires = 35\n",
    "nr_strands = 5\n",
    "\n",
    "mu_fatigue_initial = 500\n",
    "sigm_fatigue_initial = 200\n",
    "\n",
    "# inner wires\n",
    "wires = [Wire(i, True, True, np.random.normal(mu_fatigue_initial, sigm_fatigue_initial)) \n",
    "         for i in range(nr_strands)]\n",
    "# inner strand\n",
    "wires += [Wire(i, False, True, np.random.normal(mu_fatigue_initial, sigm_fatigue_initial)) \n",
    "         for i in range(nr_strands,nr_strands+6)]\n",
    "# outer strand\n",
    "wires += [Wire(i, False, True, np.random.normal(mu_fatigue_initial, sigm_fatigue_initial)) \n",
    "         for i in range(nr_strands+6,nr_wires)]\n",
    "\n",
    "exp = Experiment(id='SB01', stress_range_0=200, fctm=3.89,\n",
    "                 nr_wires=nr_wires, nr_strands=nr_strands, \n",
    "                 wires=wires)"
   ]
  },
  {
   "cell_type": "code",
   "execution_count": 3,
   "metadata": {},
   "outputs": [
    {
     "data": {
      "text/plain": [
       "\u001b[0;31mType:\u001b[0m           Experiment\n",
       "\u001b[0;31mString form:\u001b[0m    <CyclicLoadSimulation.Experiment object at 0x10486f2e8>\n",
       "\u001b[0;31mFile:\u001b[0m           ~/TuDo/bridges/CyclicLoadSimulation/CyclicLoadSimulation.py\n",
       "\u001b[0;31mDocstring:\u001b[0m     \n",
       "This class describes the experiment setup. \n",
       "Both the characteristics of a specific experiment and\n",
       "of the simulation are included.\n",
       "Moreover, the state during a simulation run can be acessed.\n",
       "\u001b[0;31mInit docstring:\u001b[0m\n",
       "Initialised the experiment.\n",
       "\n",
       "Parameters\n",
       "-----------\n",
       "id: string\n",
       "    Identifier of the test beam.\n",
       "nr_wires: int\n",
       "    Total number of wires in the test beam.\n",
       "nr_strands: int\n",
       "    Total number of strands.\n",
       "stress_range_0: float\n",
       "    Initial stress range in N/mm2.\n",
       "fctm: float\n",
       "    Concrete tensile strength in MPa.\n",
       "wires: wire object\n",
       "    All wires created with corresponding class.\n"
      ]
     },
     "metadata": {},
     "output_type": "display_data"
    }
   ],
   "source": [
    "exp?"
   ]
  },
  {
   "cell_type": "code",
   "execution_count": 4,
   "metadata": {},
   "outputs": [
    {
     "data": {
      "text/plain": [
       "\u001b[0;31mSignature:\u001b[0m \u001b[0mexp\u001b[0m\u001b[0;34m.\u001b[0m\u001b[0mupdate_experiment\u001b[0m\u001b[0;34m(\u001b[0m\u001b[0mnr_cycles\u001b[0m\u001b[0;34m)\u001b[0m\u001b[0;34m\u001b[0m\u001b[0;34m\u001b[0m\u001b[0m\n",
       "\u001b[0;31mDocstring:\u001b[0m\n",
       "Method to update the experiment.\n",
       "If a wire broke, the stress range, the number of broken wires, \n",
       "and the crack width needs to be updated. \n",
       "Moreover, the information on the cycle where the wire broke is appended\n",
       "to an array for further references, as well as the corresponding crack width.\n",
       "\u001b[0;31mFile:\u001b[0m      ~/TuDo/bridges/CyclicLoadSimulation/CyclicLoadSimulation.py\n",
       "\u001b[0;31mType:\u001b[0m      method\n"
      ]
     },
     "metadata": {},
     "output_type": "display_data"
    }
   ],
   "source": [
    "exp.update_experiment?"
   ]
  },
  {
   "cell_type": "markdown",
   "metadata": {},
   "source": [
    "#### Running an Experiment"
   ]
  },
  {
   "cell_type": "code",
   "execution_count": 6,
   "metadata": {},
   "outputs": [],
   "source": [
    "while (exp.nr_broken < 20) and (exp.nr_cycles < 6e6):\n",
    "    exp.update_wires()"
   ]
  },
  {
   "cell_type": "markdown",
   "metadata": {},
   "source": [
    "#### Investigating the results"
   ]
  },
  {
   "cell_type": "code",
   "execution_count": 8,
   "metadata": {},
   "outputs": [],
   "source": [
    "res = np.array(exp.arr)"
   ]
  },
  {
   "cell_type": "code",
   "execution_count": 9,
   "metadata": {},
   "outputs": [
    {
     "data": {
      "text/plain": [
       "array([[1.00000000e+00, 1.00000000e+00, 3.07990338e-01],\n",
       "       [2.04690000e+05, 2.00000000e+00, 3.22095426e-01],\n",
       "       [7.54369000e+05, 3.00000000e+00, 3.37310997e-01],\n",
       "       [8.28898000e+05, 4.00000000e+00, 3.53763422e-01],\n",
       "       [9.45153000e+05, 5.00000000e+00, 3.71598186e-01],\n",
       "       [9.55718000e+05, 6.00000000e+00, 3.90983536e-01],\n",
       "       [1.07952600e+06, 7.00000000e+00, 4.12114998e-01],\n",
       "       [1.45739200e+06, 8.00000000e+00, 4.35220979e-01],\n",
       "       [1.64030800e+06, 9.00000000e+00, 4.60569787e-01],\n",
       "       [1.67222300e+06, 1.00000000e+01, 4.88478501e-01],\n",
       "       [1.69634900e+06, 1.10000000e+01, 5.19324253e-01],\n",
       "       [1.81264100e+06, 1.20000000e+01, 5.53558742e-01],\n",
       "       [2.08053400e+06, 1.30000000e+01, 5.91727082e-01],\n",
       "       [2.26026800e+06, 1.40000000e+01, 6.34492547e-01],\n",
       "       [2.67059100e+06, 1.50000000e+01, 6.82669459e-01],\n",
       "       [2.75060800e+06, 1.60000000e+01, 7.37267459e-01],\n",
       "       [2.79222200e+06, 1.70000000e+01, 7.99551992e-01],\n",
       "       [2.79476800e+06, 1.80000000e+01, 8.71128225e-01],\n",
       "       [2.82426500e+06, 1.90000000e+01, 9.54059573e-01],\n",
       "       [2.86555900e+06, 2.00000000e+01, 1.05103839e+00]])"
      ]
     },
     "execution_count": 9,
     "metadata": {},
     "output_type": "execute_result"
    }
   ],
   "source": [
    "res"
   ]
  },
  {
   "cell_type": "code",
   "execution_count": 12,
   "metadata": {},
   "outputs": [
    {
     "data": {
      "text/plain": [
       "Text(0,0.5,'Number of Cracks')"
      ]
     },
     "execution_count": 12,
     "metadata": {},
     "output_type": "execute_result"
    },
    {
     "data": {
      "image/png": "[encoded data removed]",
      "text/plain": [
       "<matplotlib.figure.Figure at 0x105992470>"
      ]
     },
     "metadata": {},
     "output_type": "display_data"
    }
   ],
   "source": [
    "plt.plot(res[:,0]/1e6, res[:,1], color='black', alpha=0.5)\n",
    "plt.xlabel('Number of Cycles / 1e6')\n",
    "plt.ylabel('Number of Cracks')"
   ]
  },
  {
   "cell_type": "code",
   "execution_count": 14,
   "metadata": {},
   "outputs": [
    {
     "data": {
      "text/plain": [
       "Text(0,0.5,'Crack Width / mm')"
      ]
     },
     "execution_count": 14,
     "metadata": {},
     "output_type": "execute_result"
    },
    {
     "data": {
      "image/png": "[encoded data removed]",
      "text/plain": [
       "<matplotlib.figure.Figure at 0x10e6ef710>"
      ]
     },
     "metadata": {},
     "output_type": "display_data"
    }
   ],
   "source": [
    "plt.plot(res[:,0]/1e6, res[:,2], color='black', alpha=0.5)\n",
    "plt.xlabel('Number of Cycles / 1e6')\n",
    "plt.ylabel('Crack Width / mm')"
   ]
  },
  {
   "cell_type": "code",
   "execution_count": null,
   "metadata": {},
   "outputs": [],
   "source": []
  }
 ],
 "metadata": {
  "kernelspec": {
   "display_name": "Python 3",
   "language": "python",
   "name": "python3"
  },
  "language_info": {
   "codemirror_mode": {
    "name": "ipython",
    "version": 3
   },
   "file_extension": ".py",
   "mimetype": "text/x-python",
   "name": "python",
   "nbconvert_exporter": "python",
   "pygments_lexer": "ipython3",
   "version": "3.6.8"
  }
 },
 "nbformat": 4,
 "nbformat_minor": 2
}
